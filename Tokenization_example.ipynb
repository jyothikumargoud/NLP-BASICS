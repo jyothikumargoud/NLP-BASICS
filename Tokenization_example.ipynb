{
 "cells": [
  {
   "cell_type": "code",
   "execution_count": 2,
   "id": "1b7dcc57-8d20-4d2d-b9ec-d6cb7a064bb1",
   "metadata": {},
   "outputs": [
    {
     "name": "stdout",
     "output_type": "stream",
     "text": [
      "Requirement already satisfied: nltk in /opt/anaconda3/lib/python3.12/site-packages (3.8.1)\n",
      "Requirement already satisfied: click in /opt/anaconda3/lib/python3.12/site-packages (from nltk) (8.1.3)\n",
      "Requirement already satisfied: joblib in /opt/anaconda3/lib/python3.12/site-packages (from nltk) (1.4.2)\n",
      "Requirement already satisfied: regex>=2021.8.3 in /opt/anaconda3/lib/python3.12/site-packages (from nltk) (2023.10.3)\n",
      "Requirement already satisfied: tqdm in /opt/anaconda3/lib/python3.12/site-packages (from nltk) (4.66.4)\n"
     ]
    }
   ],
   "source": [
    "!pip install nltk"
   ]
  },
  {
   "cell_type": "code",
   "execution_count": 57,
   "id": "a5a93767-c5c0-42e3-b6bd-b10c34374bba",
   "metadata": {},
   "outputs": [
    {
     "name": "stderr",
     "output_type": "stream",
     "text": [
      "[nltk_data] Downloading package punkt to\n",
      "[nltk_data]     /Users/jyothikumargoud/nltk_data...\n",
      "[nltk_data]   Unzipping tokenizers/punkt.zip.\n"
     ]
    },
    {
     "data": {
      "text/plain": [
       "True"
      ]
     },
     "execution_count": 57,
     "metadata": {},
     "output_type": "execute_result"
    }
   ],
   "source": [
    "import nltk\n",
    "nltk.download('punkt')"
   ]
  },
  {
   "cell_type": "code",
   "execution_count": 6,
   "id": "c56c456f-54c5-482b-9207-9205cde686f7",
   "metadata": {},
   "outputs": [],
   "source": [
    "corpus = \"\"\"A strong UI/UX design ensures that a product is both visually appealing and easy to use, leading to a positive user experience.\n",
    "Would you like to know more about specific aspects of UI/UX design, such as user research or wireframing?\"\"\""
   ]
  },
  {
   "cell_type": "code",
   "execution_count": 59,
   "id": "e8db8667-eb8b-4328-9511-58f29f17899a",
   "metadata": {},
   "outputs": [
    {
     "name": "stdout",
     "output_type": "stream",
     "text": [
      "A strong UI/UX design ensures that a product is both visually appealing and easy to use, leading to a positive user experience.\n",
      "Would you like to know more about specific aspects of UI/UX design, such as user research or wireframing?\n"
     ]
    }
   ],
   "source": [
    "print(corpus)"
   ]
  },
  {
   "cell_type": "code",
   "execution_count": 61,
   "id": "6d58bc30-6975-490f-9f48-a0b5049d8a96",
   "metadata": {},
   "outputs": [],
   "source": [
    "#Tokenization\n",
    "#paragraph-sentences"
   ]
  },
  {
   "cell_type": "code",
   "execution_count": 79,
   "id": "3a507153-8210-457d-a572-d6d44cc5eb7e",
   "metadata": {},
   "outputs": [
    {
     "data": {
      "text/plain": [
       "list"
      ]
     },
     "execution_count": 79,
     "metadata": {},
     "output_type": "execute_result"
    }
   ],
   "source": [
    "from nltk.tokenize import sent_tokenize\n",
    "documents=sent_tokenize(corpus)\n",
    "type(documents)"
   ]
  },
  {
   "cell_type": "code",
   "execution_count": 103,
   "id": "581374c6-7954-474b-a59e-c6828dee3aec",
   "metadata": {},
   "outputs": [
    {
     "name": "stdout",
     "output_type": "stream",
     "text": [
      "['A strong UI/UX design ensures that a product is both visually appealing and easy to use, leading to a positive user experience.', 'Would you like to know more about specific aspects of UI/UX design, such as user research or wireframing?']\n",
      "None\n"
     ]
    }
   ],
   "source": [
    "sent = print(sent_tokenize(corpus))\n",
    "print(sent)"
   ]
  },
  {
   "cell_type": "code",
   "execution_count": null,
   "id": "f709c78d-5546-43c4-a164-77454dc1f3c5",
   "metadata": {},
   "outputs": [],
   "source": []
  },
  {
   "cell_type": "code",
   "execution_count": 85,
   "id": "940810d5-2e80-4fdf-b72e-68611f43bf10",
   "metadata": {},
   "outputs": [],
   "source": [
    "## Tokenization \n",
    "## Paragraph-->words\n",
    "## sentence--->words\n",
    "from nltk.tokenize import word_tokenize"
   ]
  },
  {
   "cell_type": "code",
   "execution_count": 93,
   "id": "5db56513-b05e-42dd-8066-d96639958729",
   "metadata": {},
   "outputs": [
    {
     "name": "stdout",
     "output_type": "stream",
     "text": [
      "['A', 'strong', 'UI/UX', 'design', 'ensures', 'that', 'a', 'product', 'is', 'both', 'visually', 'appealing', 'and', 'easy', 'to', 'use', ',', 'leading', 'to', 'a', 'positive', 'user', 'experience', '.', 'Would', 'you', 'like', 'to', 'know', 'more', 'about', 'specific', 'aspects', 'of', 'UI/UX', 'design', ',', 'such', 'as', 'user', 'research', 'or', 'wireframing', '?']\n"
     ]
    }
   ],
   "source": [
    "print(word_tokenize(corpus))"
   ]
  },
  {
   "cell_type": "code",
   "execution_count": 109,
   "id": "7e5b5d16-3294-4745-aba9-e9c8a0135274",
   "metadata": {},
   "outputs": [
    {
     "name": "stdout",
     "output_type": "stream",
     "text": [
      "['A', 'strong', 'UI/UX', 'design', 'ensures', 'that', 'a', 'product', 'is', 'both', 'visually', 'appealing', 'and', 'easy', 'to', 'use', ',', 'leading', 'to', 'a', 'positive', 'user', 'experience', '.', 'Would', 'you', 'like', 'to', 'know', 'more', 'about', 'specific', 'aspects', 'of', 'UI/UX', 'design', ',', 'such', 'as', 'user', 'research', 'or', 'wireframing', '?']\n"
     ]
    }
   ],
   "source": [
    "print(word_tokenize(corpus))"
   ]
  },
  {
   "cell_type": "code",
   "execution_count": null,
   "id": "0c961fef-bf7a-43ba-8965-2ad9a3d26a33",
   "metadata": {},
   "outputs": [],
   "source": [
    "\n"
   ]
  },
  {
   "cell_type": "code",
   "execution_count": 113,
   "id": "b6a6bddc-b644-452d-9c13-a0730413b1d5",
   "metadata": {},
   "outputs": [
    {
     "data": {
      "text/plain": [
       "['A',\n",
       " 'strong',\n",
       " 'UI',\n",
       " '/',\n",
       " 'UX',\n",
       " 'design',\n",
       " 'ensures',\n",
       " 'that',\n",
       " 'a',\n",
       " 'product',\n",
       " 'is',\n",
       " 'both',\n",
       " 'visually',\n",
       " 'appealing',\n",
       " 'and',\n",
       " 'easy',\n",
       " 'to',\n",
       " 'use',\n",
       " ',',\n",
       " 'leading',\n",
       " 'to',\n",
       " 'a',\n",
       " 'positive',\n",
       " 'user',\n",
       " 'experience',\n",
       " '.',\n",
       " 'Would',\n",
       " 'you',\n",
       " 'like',\n",
       " 'to',\n",
       " 'know',\n",
       " 'more',\n",
       " 'about',\n",
       " 'specific',\n",
       " 'aspects',\n",
       " 'of',\n",
       " 'UI',\n",
       " '/',\n",
       " 'UX',\n",
       " 'design',\n",
       " ',',\n",
       " 'such',\n",
       " 'as',\n",
       " 'user',\n",
       " 'research',\n",
       " 'or',\n",
       " 'wireframing',\n",
       " '?']"
      ]
     },
     "execution_count": 113,
     "metadata": {},
     "output_type": "execute_result"
    }
   ],
   "source": [
    "#it will seperate every punctuation likde ?/./, it couls be anything\n",
    "from nltk.tokenize import wordpunct_tokenize\n",
    "wordpunct_tokenize(corpus)"
   ]
  },
  {
   "cell_type": "code",
   "execution_count": 128,
   "id": "eee706d5-f231-4669-b5ae-c8da63a88301",
   "metadata": {},
   "outputs": [
    {
     "name": "stdout",
     "output_type": "stream",
     "text": [
      "['A', 'strong', 'UI/UX', 'design', 'ensures', 'that', 'a', 'product', 'is', 'both', 'visually', 'appealing', 'and', 'easy', 'to', 'use', ',', 'leading', 'to', 'a', 'positive', 'user', 'experience.', 'Would', 'you', 'like', 'to', 'know', 'more', 'about', 'specific', 'aspects', 'of', 'UI/UX', 'design', ',', 'such', 'as', 'user', 'research', 'or', 'wireframing', '?']\n"
     ]
    }
   ],
   "source": [
    "# it will not sperate the full stop from the corpus\n",
    "from nltk.tokenize import TreebankWordTokenizer\n",
    "tok  = TreebankWordTokenizer()\n",
    "print(tok.tokenize(corpus))"
   ]
  },
  {
   "cell_type": "code",
   "execution_count": null,
   "id": "16ca5305-f540-4edf-9120-c965f10c582f",
   "metadata": {},
   "outputs": [],
   "source": []
  },
  {
   "cell_type": "code",
   "execution_count": null,
   "id": "74d021d5-cdca-48ec-949a-b233a374b888",
   "metadata": {},
   "outputs": [],
   "source": []
  }
 ],
 "metadata": {
  "kernelspec": {
   "display_name": "Python 3 (ipykernel)",
   "language": "python",
   "name": "python3"
  },
  "language_info": {
   "codemirror_mode": {
    "name": "ipython",
    "version": 3
   },
   "file_extension": ".py",
   "mimetype": "text/x-python",
   "name": "python",
   "nbconvert_exporter": "python",
   "pygments_lexer": "ipython3",
   "version": "3.12.4"
  }
 },
 "nbformat": 4,
 "nbformat_minor": 5
}
